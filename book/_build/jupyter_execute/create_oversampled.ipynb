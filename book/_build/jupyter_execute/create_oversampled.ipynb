{
 "cells": [
  {
   "cell_type": "code",
   "execution_count": 1,
   "id": "fc5fdad6-ced5-4d0a-b70b-433be094a8a0",
   "metadata": {},
   "outputs": [],
   "source": [
    "import pandas as pd\n",
    "import random"
   ]
  },
  {
   "cell_type": "code",
   "execution_count": 3,
   "id": "8d9efe9e-961c-424b-96fa-5c9d6ee14e07",
   "metadata": {},
   "outputs": [],
   "source": [
    "#import data\n",
    "df_data = pd.read_csv(\"alzheimers_disease_data.csv\")"
   ]
  },
  {
   "cell_type": "code",
   "execution_count": 5,
   "id": "8f7add69-0a09-4da1-8037-2e866066215f",
   "metadata": {},
   "outputs": [
    {
     "name": "stdout",
     "output_type": "stream",
     "text": [
      "(2149, 35)\n"
     ]
    }
   ],
   "source": [
    "print(df_data.shape)"
   ]
  },
  {
   "cell_type": "code",
   "execution_count": 7,
   "id": "0b50046f-6f44-4a3c-b667-7b6f9c11644c",
   "metadata": {},
   "outputs": [],
   "source": [
    "#df with only positive examples\n",
    "df_pos = df_data[df_data[\"Diagnosis\"]==1]"
   ]
  },
  {
   "cell_type": "code",
   "execution_count": 9,
   "id": "d722c7dd-2812-481e-809e-2954c88ebe2e",
   "metadata": {},
   "outputs": [
    {
     "name": "stdout",
     "output_type": "stream",
     "text": [
      "(760, 35)\n"
     ]
    }
   ],
   "source": [
    "print(df_pos.shape)"
   ]
  },
  {
   "cell_type": "code",
   "execution_count": 11,
   "id": "bad7ef99-071b-4c45-b88c-5021e21dea49",
   "metadata": {},
   "outputs": [],
   "source": [
    "#1,389 negative examples – 760 positive examples = 629 duplicated examples\n",
    "#randomly selecting 629 duplicate pos examples and adding them to dataset\n",
    "for x in range(629):\n",
    "    rand = random.randint(1,629-x) #creates rand int 1 to 629 - x\n",
    "    row = df_pos.iloc[[rand]] #selects row at random integer index\n",
    "    df_data = pd.concat([df_data,row]) #adds selected row to original df\n",
    "    df_pos = df_pos.drop(df_pos.index[[rand]]) #drops selected row from positive examples"
   ]
  },
  {
   "cell_type": "code",
   "execution_count": 13,
   "id": "a57287eb-ee0f-48f4-83e4-cdcd13b75498",
   "metadata": {},
   "outputs": [
    {
     "name": "stdout",
     "output_type": "stream",
     "text": [
      "oversampled:  (2778, 35)\n"
     ]
    }
   ],
   "source": [
    "print(\"oversampled: \",df_data.shape)"
   ]
  },
  {
   "cell_type": "code",
   "execution_count": 15,
   "id": "39c04345-286d-41dc-85b0-e0fab27a40b6",
   "metadata": {},
   "outputs": [
    {
     "name": "stdout",
     "output_type": "stream",
     "text": [
      "negative examples:  (1389, 35)\n"
     ]
    }
   ],
   "source": [
    "print(\"negative examples: \", df_data[df_data[\"Diagnosis\"]==0].shape)"
   ]
  },
  {
   "cell_type": "code",
   "execution_count": 17,
   "id": "919d209f-34b9-40ce-ab09-1355774aaab8",
   "metadata": {},
   "outputs": [
    {
     "name": "stdout",
     "output_type": "stream",
     "text": [
      "positive examples:  (1389, 35)\n"
     ]
    }
   ],
   "source": [
    "print(\"positive examples: \", df_data[df_data[\"Diagnosis\"]==1].shape)"
   ]
  },
  {
   "cell_type": "code",
   "execution_count": 19,
   "id": "7d55686d-e1e8-4977-922a-166460e2d9ea",
   "metadata": {},
   "outputs": [],
   "source": [
    "#export oversampled df to .csv\n",
    "df_data.to_csv(\"alzheimers_disease_data_oversampled.csv\")"
   ]
  },
  {
   "cell_type": "code",
   "execution_count": 21,
   "id": "9a4acbe0-46b9-41f5-8de0-283446d8c1d1",
   "metadata": {},
   "outputs": [],
   "source": [
    "#removing all columns except selected features\n",
    "df_cleaned = df_data.drop(columns=['PatientID','Age', 'Gender', 'Ethnicity', 'EducationLevel', 'BMI',\n",
    "       'Smoking', 'AlcoholConsumption', 'PhysicalActivity', 'DietQuality',\n",
    "       'SleepQuality', 'FamilyHistoryAlzheimers', 'CardiovascularDisease',\n",
    "       'Diabetes', 'Depression', 'HeadInjury', 'Hypertension', 'SystolicBP',\n",
    "       'DiastolicBP', 'CholesterolTotal', 'CholesterolLDL', 'CholesterolHDL',\n",
    "       'CholesterolTriglycerides', 'Confusion', 'Disorientation',\n",
    "        'PersonalityChanges', 'DifficultyCompletingTasks','Forgetfulness', \n",
    "        'DoctorInCharge'])\n"
   ]
  },
  {
   "cell_type": "code",
   "execution_count": 23,
   "id": "060c510a-2944-4b60-a494-736ccd92fb8d",
   "metadata": {},
   "outputs": [],
   "source": [
    "#export oversampled and cleaned df to .csv\n",
    "df_cleaned.to_csv(\"alzheimers_disease_cleaned_oversampled.csv\")"
   ]
  }
 ],
 "metadata": {
  "kernelspec": {
   "display_name": "Python [conda env:base] *",
   "language": "python",
   "name": "conda-base-py"
  },
  "language_info": {
   "codemirror_mode": {
    "name": "ipython",
    "version": 3
   },
   "file_extension": ".py",
   "mimetype": "text/x-python",
   "name": "python",
   "nbconvert_exporter": "python",
   "pygments_lexer": "ipython3",
   "version": "3.12.7"
  }
 },
 "nbformat": 4,
 "nbformat_minor": 5
}
