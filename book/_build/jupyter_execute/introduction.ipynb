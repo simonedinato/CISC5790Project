{
 "cells": [
  {
   "cell_type": "markdown",
   "metadata": {},
   "source": [
    "# CISC5790 Project\n",
    "\n",
    "This project is a key component of the CISC5790 course, which emphasizes the application of data science techniques to real-world problems. Our team, consisting of four members, has undertaken this project to analyze a health-related dataset, uncover actionable insights, and develop predictive models. This endeavor provides a practical opportunity to apply the data science skills and methodologies we have acquired throughout the course, including data preprocessing, exploratory analysis, and machine learning.\n",
    "\n",
    "## Introduction\n",
    "\n",
    "The dataset selected for this project is the \"Alzheimer's Disease Dataset\" by Rabie El Kharoua, sourced from Kaggle ([https://www.kaggle.com/datasets/rabieelkharoua/alzheimers-disease-dataset](https://www.kaggle.com/datasets/rabieelkharoua/alzheimers-disease-dataset)). It contains detailed health-related information for patients, encompassing demographic details, lifestyle factors, medical history, clinical measurements, cognitive assessments, and behavioral indicators. We chose this dataset because it offers a robust set of features and rows, providing a solid foundation for applying various data science algorithms. The dataset focuses on Alzheimer’s disease, with a binary target variable (`Diagnosis`) indicating the presence or absence of the condition, making it an ideal candidate for investigating predictors of Alzheimer’s disease through binary classification.\n",
    "\n",
    "## Our Goals\n",
    "\n",
    "Our primary objective is to analyze this health dataset to identify meaningful patterns and relationships among the variables, with a focus on understanding factors associated with Alzheimer’s disease. Specifically, we aim to:\n",
    "- Conduct thorough exploratory data analysis (EDA) to uncover trends, correlations, and potential predictors of Alzheimer’s disease.\n",
    "- Build and evaluate a predictive model to accurately classify patients as having Alzheimer’s disease (1) or not (0).\n",
    "- Identify the most influential features contributing to Alzheimer’s diagnosis through feature importance analysis, providing insights that could inform clinical understanding and decision-making.\n",
    "\n",
    "\n",
    "As we progress, we will refine these objectives based on insights gained during EDA and model development, potentially exploring additional models or feature engineering techniques to enhance performance."
   ]
  }
 ],
 "metadata": {
  "language_info": {
   "name": "python"
  }
 },
 "nbformat": 4,
 "nbformat_minor": 2
}